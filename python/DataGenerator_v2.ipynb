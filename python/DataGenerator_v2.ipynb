{
 "cells": [
  {
   "cell_type": "code",
   "execution_count": 4,
   "metadata": {},
   "outputs": [],
   "source": [
    "# Variáveis Iniciais do Sistema\n",
    "initial_date = \"20-02-2020\"\n",
    "end_date = \"20-03-2020\"\n",
    "total_registers = 900\n",
    "total_users = 1200\n",
    "\n",
    "# Regioes e Locais cadastrados no sistemas de SmartParking\n",
    "locations = [{\"name\": 'ipb-estig', \"open_time\" : \"08:00\", \"close_time\" : \"23:00\"},\n",
    "              {\"name\": 'ipb-cantina', \"open_time\" : \"08:00\", \"close_time\" : \"20:00\"},\n",
    "              {\"name\": 'ipb-esa', \"open_time\" : \"08:00\", \"close_time\" : \"23:00\"}]\n",
    "\n",
    "\n"
   ]
  },
  {
   "cell_type": "code",
   "execution_count": 5,
   "metadata": {},
   "outputs": [],
   "source": [
    "# Importações de Bibliotecas Necessárias\n",
    "import pandas as pd\n",
    "import numpy as np\n",
    "\n",
    "from datetime import datetime\n",
    "from datetime import timedelta  \n",
    "\n",
    "from random import seed\n",
    "from random import randint\n",
    "\n",
    "from matplotlib import pyplot as plt\n",
    "import matplotlib.dates as md"
   ]
  },
  {
   "cell_type": "code",
   "execution_count": 6,
   "metadata": {},
   "outputs": [
    {
     "name": "stdout",
     "output_type": "stream",
     "text": [
      "Start Generating From: 20-02-2020\n",
      "Finish Generating On: 20-03-2020\n"
     ]
    },
    {
     "data": {
      "text/plain": [
       "datetime.datetime(2020, 2, 20, 0, 0)"
      ]
     },
     "execution_count": 6,
     "metadata": {},
     "output_type": "execute_result"
    }
   ],
   "source": [
    "#cols = [\"date\",\"distanceRange\",\"locationWeight\",\"maxPrice\",\"parking\",\"parkingName\",\"priceWeight\",\n",
    "#        \"region\",\"spotWanted\",\"timeFrom\",\"timeTo\",\"vehicleId\",\"vehicleType\"]\n",
    "\n",
    "cols = [\"timeFrom\", \"timeTo\"]\n",
    "\n",
    "date = datetime.strptime(initial_date, '%d-%m-%Y')\n",
    "\n",
    "end_date = datetime.strptime(end_date, '%d-%m-%Y')\n",
    "\n",
    "print(\"Start Generating From:\", date.strftime('%d-%m-%Y'))\n",
    "print(\"Finish Generating On:\", end_date.strftime('%d-%m-%Y'))\n",
    "#print(close_time.strftime('%H:%M'))\n",
    "date"
   ]
  },
  {
   "cell_type": "code",
   "execution_count": 9,
   "metadata": {},
   "outputs": [
    {
     "name": "stdout",
     "output_type": "stream",
     "text": [
      "Generating Data...\n",
      "Done!\n"
     ]
    }
   ],
   "source": [
    "df = pd.DataFrame(columns=cols)\n",
    "\n",
    "print(\"Generating Data...\")\n",
    "\n",
    "while(date < end_date):\n",
    "    # Adiciona Minutos para a data do gerador\n",
    "    addMin = randint(1, 15)\n",
    "    date = date + timedelta(minutes=addMin)\n",
    "    \n",
    "    addParks = randint(1,15)\n",
    "    while (addParks != 0):\n",
    "        # Escolhe uma location aleatoria.\n",
    "        \n",
    "        # Verifica se o horario do parking está dentro dos horários de funcionamento do estacionamento.\n",
    "        \n",
    "        # Adiciona o parking no local escolhido e com os horarios de entrada e saida.\n",
    "    \n",
    "print(\"Done!\")"
   ]
  },
  {
   "cell_type": "code",
   "execution_count": null,
   "metadata": {},
   "outputs": [],
   "source": [
    "df"
   ]
  },
  {
   "cell_type": "code",
   "execution_count": null,
   "metadata": {},
   "outputs": [],
   "source": []
  },
  {
   "cell_type": "code",
   "execution_count": null,
   "metadata": {},
   "outputs": [],
   "source": []
  },
  {
   "cell_type": "code",
   "execution_count": null,
   "metadata": {},
   "outputs": [],
   "source": []
  },
  {
   "cell_type": "code",
   "execution_count": null,
   "metadata": {},
   "outputs": [],
   "source": []
  },
  {
   "cell_type": "code",
   "execution_count": null,
   "metadata": {},
   "outputs": [],
   "source": [
    "\"\"\"\n",
    "print(\"Reading CSV...\")\n",
    "df = pd.read_csv('generated_dataset.csv')\n",
    "#df = df.drop('timeTo',axis=1)\n",
    "\n",
    "print(\"Setting the Pattern in DateTime Columns...\")\n",
    "df['timeFrom'] = pd.to_datetime(df['timeFrom'], errors='ignore')\n",
    "df['timeFrom'] = pd.to_datetime(df[\"timeFrom\"].dt.strftime('%d-%m-%Y %H:%M'))\n",
    "\n",
    "print(\"Done!\")\n",
    "\n",
    "df\n",
    "\"\"\""
   ]
  },
  {
   "cell_type": "code",
   "execution_count": null,
   "metadata": {},
   "outputs": [],
   "source": [
    "df1 = df.copy()\n",
    "\n",
    "print(\"Setting the Pattern in DateTime Columns...\")\n",
    "df1['timeFrom'] = pd.to_datetime(df1['timeFrom'], errors='ignore')\n",
    "\n",
    "print(\"Grouping by Day...\")\n",
    "df1 = df1.groupby(df1['timeFrom'].dt.date).size().reset_index(name='TotalParkings')\n",
    "\n",
    "print(\"Done!\")\n",
    "df1\n",
    "\n",
    "df2 = df1.copy()\n",
    "print(\"Setting the Pattern in DateTime Columns...\")\n",
    "df2['timeFrom'] = pd.to_datetime(df2['timeFrom'], errors='ignore')\n",
    "\n",
    "# https://pandas.pydata.org/pandas-docs/stable/user_guide/timeseries.html#offset-aliases\n",
    "print(\"Grouping by Month\")\n",
    "df2 = df2.groupby(pd.Grouper(freq='M', key='timeFrom')).sum().reset_index()\n",
    "\n",
    "print(\"Done!\")\n",
    "df2"
   ]
  },
  {
   "cell_type": "code",
   "execution_count": null,
   "metadata": {},
   "outputs": [],
   "source": [
    "df3 = df2.copy()\n",
    "\n",
    "print(\"Grouping by Month\")\n",
    "#df2 = df2.groupby(df2.timeFrom.dt.to_period(\"M\"))['TotalParkings'].sum().reset_index(name='TotalParkings')\n",
    "#df2 = df2.groupby(pd.Grouper(freq='M', key='timeFrom')).sum().reset_index()\n",
    "\n",
    "df3['timeFrom'] = df3['timeFrom'].dt.strftime('%m-%Y')\n",
    "df3 = df3.set_index('timeFrom')\n",
    "\n",
    "plt.subplots(figsize=(15,6))\n",
    "plt.title(\"\\nTotal: \"+str(len(df['timeTo'])), fontsize=30, pad=20)\n",
    "plt.xlabel(\"Enter DateTime\", fontsize=20, labelpad=20)\n",
    "plt.ylabel(\"Exit DateTime\", fontsize=20, labelpad=20)\n",
    "plt.plot(df3)"
   ]
  },
  {
   "cell_type": "code",
   "execution_count": null,
   "metadata": {},
   "outputs": [],
   "source": [
    "print(\"Setting the Pattern in DateTime Columns...\")\n",
    "df['timeFrom'] = pd.to_datetime(df['timeFrom'], errors='ignore')\n",
    "df['timeFrom'] = pd.to_datetime(df[\"timeFrom\"].dt.strftime('%d/%m/%Y %H:%M'))\n",
    "\n",
    "df['timeTo'] = pd.to_datetime(df['timeTo'], errors='ignore')\n",
    "df['timeTo'] = pd.to_datetime(df[\"timeTo\"].dt.strftime('%d/%m/%Y %H:%M'))\n",
    "\n",
    "# Query For Specific Day\n",
    "print(\"Setting Query for Specific Day and Month...\")\n",
    "df = df[(df['timeFrom'].dt.month == 2) & (df['timeFrom'].dt.day == 20)]\n",
    "\n",
    "print(\"Generating Graph...\")\n",
    "fig, ax = plt.subplots(figsize=(15,15))\n",
    "\n",
    "#min_y = 0\n",
    "max_y = 0\n",
    "#max_x = 0\n",
    "min_x = 0\n",
    "\n",
    "#while ((df['timeTo'].min().minute - min_y) % 30 != 0):\n",
    "#    min_y -= 1\n",
    "    \n",
    "while ((df['timeTo'].max().minute + max_y) % 30 != 0):\n",
    "    max_y += 1\n",
    "    \n",
    "while ((df['timeFrom'].min().minute + min_x) % 30 != 0):\n",
    "    min_x -= 1\n",
    "\n",
    "min_x = min_x + 30\n",
    "max_y = max_y + 30\n",
    "    \n",
    "#while ((df['timeFrom'].max().minute + max_x) % 30 != 0):\n",
    "#    max_x += 1\n",
    "    \n",
    "    \n",
    "plt.scatter(x=df['timeFrom'], y=df['timeTo'])\n",
    "\n",
    "ax.set_xlim(df['timeFrom'].min()-pd.Timedelta(min_x,'m'),\n",
    "            df['timeTo'].max()+pd.Timedelta(max_y,'m'))\n",
    "\n",
    "ax.set_ylim(df['timeFrom'].min()-pd.Timedelta(min_x,'m'),\n",
    "            df['timeTo'].max()+pd.Timedelta(max_y,'m'))\n",
    "\n",
    "ax.xaxis.set_major_locator(md.MinuteLocator(interval = 30))\n",
    "ax.xaxis.set_major_formatter(md.DateFormatter('%H:%M'))\n",
    "\n",
    "ax.yaxis.set_major_locator(md.MinuteLocator(interval = 30))\n",
    "ax.yaxis.set_major_formatter(md.DateFormatter('%H:%M'))\n",
    "\n",
    "fig.autofmt_xdate()\n",
    "\n",
    "plt.title(\"\\nTotal: \"+str(len(df['timeTo'])), fontsize=30, pad=20)\n",
    "plt.xlabel(\"Enter DateTime\", fontsize=20, labelpad=20)\n",
    "plt.ylabel(\"Exit DateTime\", fontsize=20, labelpad=20)\n",
    "\n",
    "plt.xticks(rotation=90)\n",
    "\n",
    "plt.grid()\n",
    "plt.show()"
   ]
  },
  {
   "cell_type": "code",
   "execution_count": null,
   "metadata": {},
   "outputs": [],
   "source": []
  }
 ],
 "metadata": {
  "kernelspec": {
   "display_name": "Python 3",
   "language": "python",
   "name": "python3"
  },
  "language_info": {
   "codemirror_mode": {
    "name": "ipython",
    "version": 3
   },
   "file_extension": ".py",
   "mimetype": "text/x-python",
   "name": "python",
   "nbconvert_exporter": "python",
   "pygments_lexer": "ipython3",
   "version": "3.7.6"
  }
 },
 "nbformat": 4,
 "nbformat_minor": 4
}
