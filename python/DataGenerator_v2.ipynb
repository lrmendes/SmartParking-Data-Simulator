{
 "cells": [
  {
   "cell_type": "code",
   "execution_count": 182,
   "metadata": {},
   "outputs": [],
   "source": [
    "# Variáveis Iniciais do Sistema\n",
    "initial_date = \"20-02-2020\"\n",
    "final_date = \"22-02-2020\"\n",
    "total_registers = 900\n",
    "total_users = 1200\n",
    "\n",
    "# Regioes e Locais cadastrados no sistemas de SmartParking\n",
    "parkings_data = [\n",
    "    {\n",
    "        \"parking\": \"IPB\",\n",
    "        \"regions\": [\n",
    "            {\n",
    "                \"name\": \"ipb-cantina\",\n",
    "                \"open_time\": \"08:00\",\n",
    "                \"close_time\": \"20:00\",\n",
    "                \"max_slots\": 300,\n",
    "                \"ocuppation_avg\": 0.5,\n",
    "                \"variation\": 0.8,\n",
    "                \"rush_range\": [\n",
    "                    {\n",
    "                        \"start\": \"12:00\",\n",
    "                        \"finish\": \"13:00\",\n",
    "                        \"increase\": 2.5\n",
    "                    },\n",
    "                    {\n",
    "                        \"start\": \"18:00\",\n",
    "                        \"finish\": \"19:00\",\n",
    "                        \"increase\": 1.8\n",
    "                    }\n",
    "                ]\n",
    "            }\n",
    "        ]\n",
    "    }\n",
    "]"
   ]
  },
  {
   "cell_type": "code",
   "execution_count": 183,
   "metadata": {},
   "outputs": [],
   "source": [
    "# Importações de Bibliotecas Necessárias\n",
    "import pandas as pd\n",
    "import numpy as np\n",
    "\n",
    "from datetime import datetime\n",
    "from datetime import timedelta  \n",
    "\n",
    "from random import seed\n",
    "from random import randint\n",
    "\n",
    "from matplotlib import pyplot as plt\n",
    "import matplotlib.dates as md"
   ]
  },
  {
   "cell_type": "code",
   "execution_count": 184,
   "metadata": {},
   "outputs": [
    {
     "name": "stdout",
     "output_type": "stream",
     "text": [
      "Start Generating On: 20-02-2020\n",
      "Finish Generating On: 22-02-2020\n",
      "Total Days: \n"
     ]
    }
   ],
   "source": [
    "cols = [\"parking\",\"region\",\"timeFrom\",\"timeTo\"]\n",
    "\n",
    "date = datetime.strptime(initial_date, '%d-%m-%Y')\n",
    "end_date = datetime.strptime(final_date, '%d-%m-%Y')\n",
    "\n",
    "for park in parkings_data:\n",
    "    for region in park['regions']:\n",
    "        region['open_time'] = datetime.strptime(region['open_time'], '%H:%M').time()\n",
    "        region['close_time'] = datetime.strptime(region['close_time'], '%H:%M').time()\n",
    "        for rush in region['rush_range']:\n",
    "            rush['start'] = datetime.strptime(rush['start'], '%H:%M').time()\n",
    "            rush['finish'] = datetime.strptime(rush['finish'], '%H:%M').time()\n",
    "\n",
    "print(\"Start Generating On:\", date.strftime('%d-%m-%Y'))\n",
    "print(\"Finish Generating On:\", end_date.strftime('%d-%m-%Y'))\n",
    "print(\"Total Days: \")"
   ]
  },
  {
   "cell_type": "code",
   "execution_count": 185,
   "metadata": {},
   "outputs": [
    {
     "name": "stdout",
     "output_type": "stream",
     "text": [
      "Generating Data...\n",
      "\n",
      "Generating Data for Parking:  IPB\n",
      "\tGenerating Data for Region:  ipb-cantina\n",
      "\n",
      "\n",
      "\n",
      "Done!\n"
     ]
    }
   ],
   "source": [
    "df = pd.DataFrame(columns=cols)\n",
    "\n",
    "print(\"Generating Data...\\n\")\n",
    "\n",
    "# Verifica se o horario atual é um horário de maior fluxo para aquela região    \n",
    "def is_rush_time(region):\n",
    "    is_rush = False\n",
    "    rush_increase = 1\n",
    "    for rush in region['rush_range']:\n",
    "        if (date.time() >= rush['start'] and date.time() <= rush['finish']):\n",
    "            is_rush = True\n",
    "            rush_increase = rush['increase']\n",
    "    return is_rush, rush_increase\n",
    "\n",
    "# Define quantos parkings serao criados em cada execucao dependendo se a regiao esta ou nao em horario de maior fluxo\n",
    "def add_parkings_by_rush(region):\n",
    "    is_rush, rush_increase = is_rush_time(region)\n",
    "    \n",
    "    add_parkings = randint(1,12)\n",
    "    if (is_rush):\n",
    "        # Multiplicacao do anterior OU randint(1,3*increase) *****************\n",
    "        add_parkings = add_parkings * rush_increase\n",
    "        #add_parkings = randint(1,int(3*rush_increase))\n",
    "        \n",
    "    return add_parkings\n",
    "    \n",
    "\n",
    "# Percorre cada Parking cadastrado\n",
    "for park in parkings_data:\n",
    "    var_parking = park['parking']\n",
    "    print(\"Generating Data for Parking: \",var_parking)\n",
    "    # Percorre cada Região do parking\n",
    "    for region in park['regions']:\n",
    "        var_region = region['name']\n",
    "        print(\"\\tGenerating Data for Region: \",var_region)\n",
    "        \n",
    "        # Obtem os horarios de abertura e fechamento da Região do Parking\n",
    "        open_time = region['open_time']\n",
    "        close_time = region['close_time']\n",
    "        \n",
    "        # Zera a data de inicio e fim para iniciar a criacao de dados\n",
    "        date = datetime.strptime(initial_date, '%d-%m-%Y')\n",
    "        date = date.replace(hour=open_time.hour, minute=open_time.minute)\n",
    "        end_date = datetime.strptime(final_date, '%d-%m-%Y')\n",
    "        \n",
    "        # Zera a lista do estacionamento\n",
    "        parkings = []        \n",
    "        \n",
    "        while(date < end_date):\n",
    "            \n",
    "            # Chance do estaciomamento durar: [ Ate 60min : 70%  | Acima de 60min: 30% ]\n",
    "            parking_time = randint(10,60)\n",
    "            if (randint(1,10) > 7):\n",
    "                parking_time = randint(61,300)\n",
    "            \n",
    "            add_parkings = add_parkings_by_rush(region)\n",
    "            \n",
    "            # Insere estacionamentos na base de dados\n",
    "            while (add_parkings > 0):\n",
    "                # Cria uma ROW\n",
    "                row = {'parking': var_parking, 'region': var_region}\n",
    "                row.update({'timeFrom': date.strftime('%d-%m-%Y %H:%M')})\n",
    "                \n",
    "                # Adiciona o Role ***********************************************\n",
    "                validate_date = date + timedelta(minutes=parking_time)\n",
    "\n",
    "                if (validate_date.hour >= close_time.hour and validate_date.minute >= close_time.minute):\n",
    "                    row.update({'timeTo': (date.replace(hour=close_time.hour, minute=close_time.minute).strftime('%d-%m-%Y %H:%M')) })\n",
    "                elif (validate_date.hour < open_time.hour):\n",
    "                    row.update({'timeTo': (date.replace(hour=close_time.hour, minute=close_time.minute).strftime('%d-%m-%Y %H:%M')) })\n",
    "                else:\n",
    "                    row.update({'timeTo': validate_date.strftime('%d-%m-%Y %H:%M')})\n",
    "\n",
    "                # Finaliza o Role ***********************************************                \n",
    "                df = df.append(row, ignore_index=True)\n",
    "                \n",
    "                # Adiciona Horas no sistema\n",
    "                addMin = randint(1, 15)\n",
    "                date = date + timedelta(minutes=addMin)\n",
    "                \n",
    "                # Verifica se a nova hora e data é valida\n",
    "                \"\"\"\n",
    "                if (date.hour > close_time.hour) or (date.hour == close_time.hour and date.minute >= close_time.minute):\n",
    "                    date = date + timedelta(days=1)\n",
    "                    date = date.replace(hour=open_time.hour, minute=open_time.minute)\n",
    "                elif( (date.hour == close_time.hour-1) and (60 - date.minute <= 15)):\n",
    "                    date = date + timedelta(days=1)\n",
    "                    date = date.replace(hour=open_time.hour, minute=open_time.minute)\n",
    "                elif (date.hour < open_time.hour):\n",
    "                    date = date.replace(hour=open_time.hour, minute=open_time.minute)\n",
    "                \"\"\"\n",
    "                if not(date.time() >= open_time and date.time() <= close_time):\n",
    "                    date = date + timedelta(days=1)\n",
    "                    date = date.replace(hour=open_time.hour, minute=open_time.minute)\n",
    "                \n",
    "                add_parkings -= 1\n",
    "                \n",
    "    print(\"\\n\")\n",
    "    \n",
    "print(\"\\nDone!\")"
   ]
  },
  {
   "cell_type": "code",
   "execution_count": 186,
   "metadata": {},
   "outputs": [
    {
     "data": {
      "text/html": [
       "<div>\n",
       "<style scoped>\n",
       "    .dataframe tbody tr th:only-of-type {\n",
       "        vertical-align: middle;\n",
       "    }\n",
       "\n",
       "    .dataframe tbody tr th {\n",
       "        vertical-align: top;\n",
       "    }\n",
       "\n",
       "    .dataframe thead th {\n",
       "        text-align: right;\n",
       "    }\n",
       "</style>\n",
       "<table border=\"1\" class=\"dataframe\">\n",
       "  <thead>\n",
       "    <tr style=\"text-align: right;\">\n",
       "      <th></th>\n",
       "      <th>parking</th>\n",
       "      <th>region</th>\n",
       "      <th>timeFrom</th>\n",
       "      <th>timeTo</th>\n",
       "    </tr>\n",
       "  </thead>\n",
       "  <tbody>\n",
       "    <tr>\n",
       "      <th>0</th>\n",
       "      <td>IPB</td>\n",
       "      <td>ipb-cantina</td>\n",
       "      <td>20-02-2020 08:00</td>\n",
       "      <td>20-02-2020 08:52</td>\n",
       "    </tr>\n",
       "    <tr>\n",
       "      <th>1</th>\n",
       "      <td>IPB</td>\n",
       "      <td>ipb-cantina</td>\n",
       "      <td>20-02-2020 08:01</td>\n",
       "      <td>20-02-2020 08:42</td>\n",
       "    </tr>\n",
       "    <tr>\n",
       "      <th>2</th>\n",
       "      <td>IPB</td>\n",
       "      <td>ipb-cantina</td>\n",
       "      <td>20-02-2020 08:12</td>\n",
       "      <td>20-02-2020 08:53</td>\n",
       "    </tr>\n",
       "    <tr>\n",
       "      <th>3</th>\n",
       "      <td>IPB</td>\n",
       "      <td>ipb-cantina</td>\n",
       "      <td>20-02-2020 08:19</td>\n",
       "      <td>20-02-2020 09:00</td>\n",
       "    </tr>\n",
       "    <tr>\n",
       "      <th>4</th>\n",
       "      <td>IPB</td>\n",
       "      <td>ipb-cantina</td>\n",
       "      <td>20-02-2020 08:20</td>\n",
       "      <td>20-02-2020 09:01</td>\n",
       "    </tr>\n",
       "    <tr>\n",
       "      <th>...</th>\n",
       "      <td>...</td>\n",
       "      <td>...</td>\n",
       "      <td>...</td>\n",
       "      <td>...</td>\n",
       "    </tr>\n",
       "    <tr>\n",
       "      <th>176</th>\n",
       "      <td>IPB</td>\n",
       "      <td>ipb-cantina</td>\n",
       "      <td>21-02-2020 19:49</td>\n",
       "      <td>21-02-2020 20:00</td>\n",
       "    </tr>\n",
       "    <tr>\n",
       "      <th>177</th>\n",
       "      <td>IPB</td>\n",
       "      <td>ipb-cantina</td>\n",
       "      <td>21-02-2020 19:54</td>\n",
       "      <td>21-02-2020 20:00</td>\n",
       "    </tr>\n",
       "    <tr>\n",
       "      <th>178</th>\n",
       "      <td>IPB</td>\n",
       "      <td>ipb-cantina</td>\n",
       "      <td>22-02-2020 08:00</td>\n",
       "      <td>22-02-2020 08:54</td>\n",
       "    </tr>\n",
       "    <tr>\n",
       "      <th>179</th>\n",
       "      <td>IPB</td>\n",
       "      <td>ipb-cantina</td>\n",
       "      <td>22-02-2020 08:10</td>\n",
       "      <td>22-02-2020 09:04</td>\n",
       "    </tr>\n",
       "    <tr>\n",
       "      <th>180</th>\n",
       "      <td>IPB</td>\n",
       "      <td>ipb-cantina</td>\n",
       "      <td>22-02-2020 08:20</td>\n",
       "      <td>22-02-2020 09:14</td>\n",
       "    </tr>\n",
       "  </tbody>\n",
       "</table>\n",
       "<p>181 rows × 4 columns</p>\n",
       "</div>"
      ],
      "text/plain": [
       "    parking       region          timeFrom            timeTo\n",
       "0       IPB  ipb-cantina  20-02-2020 08:00  20-02-2020 08:52\n",
       "1       IPB  ipb-cantina  20-02-2020 08:01  20-02-2020 08:42\n",
       "2       IPB  ipb-cantina  20-02-2020 08:12  20-02-2020 08:53\n",
       "3       IPB  ipb-cantina  20-02-2020 08:19  20-02-2020 09:00\n",
       "4       IPB  ipb-cantina  20-02-2020 08:20  20-02-2020 09:01\n",
       "..      ...          ...               ...               ...\n",
       "176     IPB  ipb-cantina  21-02-2020 19:49  21-02-2020 20:00\n",
       "177     IPB  ipb-cantina  21-02-2020 19:54  21-02-2020 20:00\n",
       "178     IPB  ipb-cantina  22-02-2020 08:00  22-02-2020 08:54\n",
       "179     IPB  ipb-cantina  22-02-2020 08:10  22-02-2020 09:04\n",
       "180     IPB  ipb-cantina  22-02-2020 08:20  22-02-2020 09:14\n",
       "\n",
       "[181 rows x 4 columns]"
      ]
     },
     "execution_count": 186,
     "metadata": {},
     "output_type": "execute_result"
    }
   ],
   "source": [
    "df"
   ]
  },
  {
   "cell_type": "code",
   "execution_count": null,
   "metadata": {},
   "outputs": [],
   "source": []
  },
  {
   "cell_type": "code",
   "execution_count": null,
   "metadata": {},
   "outputs": [],
   "source": []
  },
  {
   "cell_type": "code",
   "execution_count": null,
   "metadata": {},
   "outputs": [],
   "source": []
  },
  {
   "cell_type": "code",
   "execution_count": 187,
   "metadata": {},
   "outputs": [
    {
     "name": "stdout",
     "output_type": "stream",
     "text": [
      "Writing output file...\n",
      "Done!\n"
     ]
    }
   ],
   "source": [
    "print(\"Writing output file...\")\n",
    "df.to_csv('generated_dataset_v2.csv', index=False)\n",
    "print(\"Done!\")"
   ]
  },
  {
   "cell_type": "code",
   "execution_count": 188,
   "metadata": {},
   "outputs": [
    {
     "name": "stdout",
     "output_type": "stream",
     "text": [
      "Reading CSV...\n",
      "Setting the Pattern in DateTime Columns...\n",
      "Done!\n"
     ]
    },
    {
     "data": {
      "text/html": [
       "<div>\n",
       "<style scoped>\n",
       "    .dataframe tbody tr th:only-of-type {\n",
       "        vertical-align: middle;\n",
       "    }\n",
       "\n",
       "    .dataframe tbody tr th {\n",
       "        vertical-align: top;\n",
       "    }\n",
       "\n",
       "    .dataframe thead th {\n",
       "        text-align: right;\n",
       "    }\n",
       "</style>\n",
       "<table border=\"1\" class=\"dataframe\">\n",
       "  <thead>\n",
       "    <tr style=\"text-align: right;\">\n",
       "      <th></th>\n",
       "      <th>parking</th>\n",
       "      <th>region</th>\n",
       "      <th>timeFrom</th>\n",
       "      <th>timeTo</th>\n",
       "    </tr>\n",
       "  </thead>\n",
       "  <tbody>\n",
       "    <tr>\n",
       "      <th>0</th>\n",
       "      <td>IPB</td>\n",
       "      <td>ipb-cantina</td>\n",
       "      <td>2020-02-20 08:00:00</td>\n",
       "      <td>20-02-2020 08:52</td>\n",
       "    </tr>\n",
       "    <tr>\n",
       "      <th>1</th>\n",
       "      <td>IPB</td>\n",
       "      <td>ipb-cantina</td>\n",
       "      <td>2020-02-20 08:01:00</td>\n",
       "      <td>20-02-2020 08:42</td>\n",
       "    </tr>\n",
       "    <tr>\n",
       "      <th>2</th>\n",
       "      <td>IPB</td>\n",
       "      <td>ipb-cantina</td>\n",
       "      <td>2020-02-20 08:12:00</td>\n",
       "      <td>20-02-2020 08:53</td>\n",
       "    </tr>\n",
       "    <tr>\n",
       "      <th>3</th>\n",
       "      <td>IPB</td>\n",
       "      <td>ipb-cantina</td>\n",
       "      <td>2020-02-20 08:19:00</td>\n",
       "      <td>20-02-2020 09:00</td>\n",
       "    </tr>\n",
       "    <tr>\n",
       "      <th>4</th>\n",
       "      <td>IPB</td>\n",
       "      <td>ipb-cantina</td>\n",
       "      <td>2020-02-20 08:20:00</td>\n",
       "      <td>20-02-2020 09:01</td>\n",
       "    </tr>\n",
       "    <tr>\n",
       "      <th>...</th>\n",
       "      <td>...</td>\n",
       "      <td>...</td>\n",
       "      <td>...</td>\n",
       "      <td>...</td>\n",
       "    </tr>\n",
       "    <tr>\n",
       "      <th>176</th>\n",
       "      <td>IPB</td>\n",
       "      <td>ipb-cantina</td>\n",
       "      <td>2020-02-21 19:49:00</td>\n",
       "      <td>21-02-2020 20:00</td>\n",
       "    </tr>\n",
       "    <tr>\n",
       "      <th>177</th>\n",
       "      <td>IPB</td>\n",
       "      <td>ipb-cantina</td>\n",
       "      <td>2020-02-21 19:54:00</td>\n",
       "      <td>21-02-2020 20:00</td>\n",
       "    </tr>\n",
       "    <tr>\n",
       "      <th>178</th>\n",
       "      <td>IPB</td>\n",
       "      <td>ipb-cantina</td>\n",
       "      <td>2020-02-22 08:00:00</td>\n",
       "      <td>22-02-2020 08:54</td>\n",
       "    </tr>\n",
       "    <tr>\n",
       "      <th>179</th>\n",
       "      <td>IPB</td>\n",
       "      <td>ipb-cantina</td>\n",
       "      <td>2020-02-22 08:10:00</td>\n",
       "      <td>22-02-2020 09:04</td>\n",
       "    </tr>\n",
       "    <tr>\n",
       "      <th>180</th>\n",
       "      <td>IPB</td>\n",
       "      <td>ipb-cantina</td>\n",
       "      <td>2020-02-22 08:20:00</td>\n",
       "      <td>22-02-2020 09:14</td>\n",
       "    </tr>\n",
       "  </tbody>\n",
       "</table>\n",
       "<p>181 rows × 4 columns</p>\n",
       "</div>"
      ],
      "text/plain": [
       "    parking       region            timeFrom            timeTo\n",
       "0       IPB  ipb-cantina 2020-02-20 08:00:00  20-02-2020 08:52\n",
       "1       IPB  ipb-cantina 2020-02-20 08:01:00  20-02-2020 08:42\n",
       "2       IPB  ipb-cantina 2020-02-20 08:12:00  20-02-2020 08:53\n",
       "3       IPB  ipb-cantina 2020-02-20 08:19:00  20-02-2020 09:00\n",
       "4       IPB  ipb-cantina 2020-02-20 08:20:00  20-02-2020 09:01\n",
       "..      ...          ...                 ...               ...\n",
       "176     IPB  ipb-cantina 2020-02-21 19:49:00  21-02-2020 20:00\n",
       "177     IPB  ipb-cantina 2020-02-21 19:54:00  21-02-2020 20:00\n",
       "178     IPB  ipb-cantina 2020-02-22 08:00:00  22-02-2020 08:54\n",
       "179     IPB  ipb-cantina 2020-02-22 08:10:00  22-02-2020 09:04\n",
       "180     IPB  ipb-cantina 2020-02-22 08:20:00  22-02-2020 09:14\n",
       "\n",
       "[181 rows x 4 columns]"
      ]
     },
     "execution_count": 188,
     "metadata": {},
     "output_type": "execute_result"
    }
   ],
   "source": [
    "print(\"Reading CSV...\")\n",
    "df = pd.read_csv('generated_dataset_v2.csv')\n",
    "#df = df.drop('timeTo',axis=1)\n",
    "\n",
    "print(\"Setting the Pattern in DateTime Columns...\")\n",
    "df['timeFrom'] = pd.to_datetime(df['timeFrom'], errors='ignore')\n",
    "df['timeFrom'] = pd.to_datetime(df[\"timeFrom\"].dt.strftime('%d-%m-%Y %H:%M'))\n",
    "\n",
    "print(\"Done!\")\n",
    "\n",
    "df"
   ]
  },
  {
   "cell_type": "code",
   "execution_count": 170,
   "metadata": {},
   "outputs": [
    {
     "name": "stdout",
     "output_type": "stream",
     "text": [
      "Setting the Pattern in DateTime Columns...\n",
      "Grouping by Day...\n",
      "Done!\n"
     ]
    },
    {
     "data": {
      "text/html": [
       "<div>\n",
       "<style scoped>\n",
       "    .dataframe tbody tr th:only-of-type {\n",
       "        vertical-align: middle;\n",
       "    }\n",
       "\n",
       "    .dataframe tbody tr th {\n",
       "        vertical-align: top;\n",
       "    }\n",
       "\n",
       "    .dataframe thead th {\n",
       "        text-align: right;\n",
       "    }\n",
       "</style>\n",
       "<table border=\"1\" class=\"dataframe\">\n",
       "  <thead>\n",
       "    <tr style=\"text-align: right;\">\n",
       "      <th></th>\n",
       "      <th>timeFrom</th>\n",
       "      <th>TotalParkings</th>\n",
       "    </tr>\n",
       "  </thead>\n",
       "  <tbody>\n",
       "    <tr>\n",
       "      <th>0</th>\n",
       "      <td>2020-02-20</td>\n",
       "      <td>323</td>\n",
       "    </tr>\n",
       "    <tr>\n",
       "      <th>1</th>\n",
       "      <td>2020-02-21</td>\n",
       "      <td>330</td>\n",
       "    </tr>\n",
       "    <tr>\n",
       "      <th>2</th>\n",
       "      <td>2020-02-22</td>\n",
       "      <td>3</td>\n",
       "    </tr>\n",
       "  </tbody>\n",
       "</table>\n",
       "</div>"
      ],
      "text/plain": [
       "     timeFrom  TotalParkings\n",
       "0  2020-02-20            323\n",
       "1  2020-02-21            330\n",
       "2  2020-02-22              3"
      ]
     },
     "execution_count": 170,
     "metadata": {},
     "output_type": "execute_result"
    }
   ],
   "source": [
    "df1 = df.copy()\n",
    "df1 = df1[['timeFrom']]\n",
    "\n",
    "print(\"Setting the Pattern in DateTime Columns...\")\n",
    "df1['timeFrom'] = pd.to_datetime(df1['timeFrom'], errors='ignore')\n",
    "\n",
    "print(\"Grouping by Day...\")\n",
    "df1 = df1.groupby(df1['timeFrom'].dt.date).size().reset_index(name='TotalParkings')\n",
    "\n",
    "print(\"Done!\")\n",
    "df1"
   ]
  },
  {
   "cell_type": "code",
   "execution_count": 172,
   "metadata": {},
   "outputs": [
    {
     "data": {
      "text/plain": [
       "[<matplotlib.lines.Line2D at 0x2716292ef08>]"
      ]
     },
     "execution_count": 172,
     "metadata": {},
     "output_type": "execute_result"
    },
    {
     "data": {
      "image/png": "[encoded data removed]",
      "text/plain": [
       "<Figure size 1080x432 with 1 Axes>"
      ]
     },
     "metadata": {
      "needs_background": "light"
     },
     "output_type": "display_data"
    }
   ],
   "source": [
    "df3 = df1.copy()\n",
    "df3 = df3.set_index('timeFrom')\n",
    "\n",
    "plt.subplots(figsize=(15,6))\n",
    "plt.title(\"\\nParkings Grouped by Day\", fontsize=20, pad=20)\n",
    "plt.xlabel(\"Date\", fontsize=16, labelpad=20)\n",
    "plt.ylabel(\"Total\", fontsize=16, labelpad=20)\n",
    "plt.xticks(rotation=45)\n",
    "plt.plot(df3)"
   ]
  },
  {
   "cell_type": "code",
   "execution_count": 128,
   "metadata": {},
   "outputs": [
    {
     "name": "stdout",
     "output_type": "stream",
     "text": [
      "Setting the Pattern in DateTime Columns...\n",
      "Grouping by Month\n",
      "Done!\n"
     ]
    },
    {
     "data": {
      "text/html": [
       "<div>\n",
       "<style scoped>\n",
       "    .dataframe tbody tr th:only-of-type {\n",
       "        vertical-align: middle;\n",
       "    }\n",
       "\n",
       "    .dataframe tbody tr th {\n",
       "        vertical-align: top;\n",
       "    }\n",
       "\n",
       "    .dataframe thead th {\n",
       "        text-align: right;\n",
       "    }\n",
       "</style>\n",
       "<table border=\"1\" class=\"dataframe\">\n",
       "  <thead>\n",
       "    <tr style=\"text-align: right;\">\n",
       "      <th></th>\n",
       "      <th>timeFrom</th>\n",
       "      <th>TotalParkings</th>\n",
       "    </tr>\n",
       "  </thead>\n",
       "  <tbody>\n",
       "    <tr>\n",
       "      <th>0</th>\n",
       "      <td>02-2020</td>\n",
       "      <td>1124</td>\n",
       "    </tr>\n",
       "    <tr>\n",
       "      <th>1</th>\n",
       "      <td>03-2020</td>\n",
       "      <td>2333</td>\n",
       "    </tr>\n",
       "  </tbody>\n",
       "</table>\n",
       "</div>"
      ],
      "text/plain": [
       "  timeFrom  TotalParkings\n",
       "0  02-2020           1124\n",
       "1  03-2020           2333"
      ]
     },
     "execution_count": 128,
     "metadata": {},
     "output_type": "execute_result"
    }
   ],
   "source": [
    "df2 = df1.copy()\n",
    "print(\"Setting the Pattern in DateTime Columns...\")\n",
    "df2['timeFrom'] = pd.to_datetime(df2['timeFrom'], errors='ignore')\n",
    "\n",
    "# https://pandas.pydata.org/pandas-docs/stable/user_guide/timeseries.html#offset-aliases\n",
    "print(\"Grouping by Month\")\n",
    "df2 = df2.groupby(pd.Grouper(freq='M', key='timeFrom')).sum().reset_index()\n",
    "df2['timeFrom'] = df2['timeFrom'].dt.strftime('%m-%Y')\n",
    "\n",
    "print(\"Done!\")\n",
    "df2"
   ]
  },
  {
   "cell_type": "code",
   "execution_count": 129,
   "metadata": {},
   "outputs": [
    {
     "name": "stdout",
     "output_type": "stream",
     "text": [
      "Grouping by Month\n"
     ]
    },
    {
     "data": {
      "text/plain": [
       "[<matplotlib.lines.Line2D at 0x2715ffdfb08>]"
      ]
     },
     "execution_count": 129,
     "metadata": {},
     "output_type": "execute_result"
    },
    {
     "data": {
      "image/png": "[encoded data removed]",
      "text/plain": [
       "<Figure size 1080x432 with 1 Axes>"
      ]
     },
     "metadata": {
      "needs_background": "light"
     },
     "output_type": "display_data"
    }
   ],
   "source": [
    "df3 = df2.copy()\n",
    "\n",
    "print(\"Grouping by Month\")\n",
    "df3 = df3.set_index('timeFrom')\n",
    "\n",
    "plt.subplots(figsize=(15,6))\n",
    "plt.title(\"\\nTotal: \"+str(len(df['timeTo'])), fontsize=30, pad=20)\n",
    "plt.title(\"\\nParkings Grouped by Month\", fontsize=20, pad=20)\n",
    "plt.xlabel(\"Date\", fontsize=16, labelpad=20)\n",
    "plt.ylabel(\"Total\", fontsize=16, labelpad=20)\n",
    "plt.plot(df3)"
   ]
  },
  {
   "cell_type": "code",
   "execution_count": 189,
   "metadata": {},
   "outputs": [
    {
     "name": "stdout",
     "output_type": "stream",
     "text": [
      "Setting the Pattern in DateTime Columns...\n",
      "Setting Query for Specific Day and Month...\n",
      "Generating Graph...\n"
     ]
    },
    {
     "data": {
      "image/png": "[encoded data removed]",
      "text/plain": [
       "<Figure size 1080x1080 with 1 Axes>"
      ]
     },
     "metadata": {},
     "output_type": "display_data"
    }
   ],
   "source": [
    "df4 = df.copy()\n",
    "df4 = df4[['timeFrom','timeTo']]\n",
    "\n",
    "print(\"Setting the Pattern in DateTime Columns...\")\n",
    "df4['timeFrom'] = pd.to_datetime(df4['timeFrom'], errors='ignore')\n",
    "df4['timeFrom'] = pd.to_datetime(df4[\"timeFrom\"].dt.strftime('%d/%m/%Y %H:%M'))\n",
    "\n",
    "df4['timeTo'] = pd.to_datetime(df4['timeTo'], errors='ignore')\n",
    "df4['timeTo'] = pd.to_datetime(df4[\"timeTo\"].dt.strftime('%d/%m/%Y %H:%M'))\n",
    "\n",
    "# Query For Specific Day\n",
    "print(\"Setting Query for Specific Day and Month...\")\n",
    "df4 = df4[(df4['timeFrom'].dt.month == 2) & (df4['timeFrom'].dt.day == 20)]\n",
    "\n",
    "print(\"Generating Graph...\")\n",
    "fig, ax = plt.subplots(figsize=(15,15))\n",
    "\n",
    "max_y = 0\n",
    "min_x = 0\n",
    "\n",
    "while ((df4['timeTo'].max().minute + max_y) % 30 != 0):\n",
    "    max_y += 1\n",
    "    \n",
    "while ((df4['timeFrom'].min().minute + min_x) % 30 != 0):\n",
    "    min_x -= 1\n",
    "\n",
    "min_x = min_x + 30\n",
    "max_y = max_y + 30\n",
    "    \n",
    "plt.scatter(x=df4['timeFrom'], y=df4['timeTo'])\n",
    "\n",
    "ax.set_xlim(df4['timeFrom'].min()-pd.Timedelta(min_x,'m'),\n",
    "            df4['timeTo'].max()+pd.Timedelta(max_y,'m'))\n",
    "\n",
    "ax.set_ylim(df4['timeFrom'].min()-pd.Timedelta(min_x,'m'),\n",
    "            df4['timeTo'].max()+pd.Timedelta(max_y,'m'))\n",
    "\n",
    "ax.xaxis.set_major_locator(md.MinuteLocator(interval = 30))\n",
    "ax.xaxis.set_major_formatter(md.DateFormatter('%H:%M'))\n",
    "\n",
    "ax.yaxis.set_major_locator(md.MinuteLocator(interval = 30))\n",
    "ax.yaxis.set_major_formatter(md.DateFormatter('%H:%M'))\n",
    "\n",
    "fig.autofmt_xdate()\n",
    "\n",
    "plt.title(\"\\nTotal Parkings of One Day\", fontsize=30, pad=20)\n",
    "plt.xlabel(\"Entry DateTime\", fontsize=20, labelpad=20)\n",
    "plt.ylabel(\"Exit DateTime\", fontsize=20, labelpad=20)\n",
    "\n",
    "plt.xticks(rotation=90)\n",
    "\n",
    "plt.margins(x=0)\n",
    "plt.figure(1).set_facecolor((1, 1, 1))\n",
    "\n",
    "plt.grid()\n",
    "plt.show()"
   ]
  },
  {
   "cell_type": "code",
   "execution_count": null,
   "metadata": {},
   "outputs": [],
   "source": []
  }
 ],
 "metadata": {
  "kernelspec": {
   "display_name": "Python 3",
   "language": "python",
   "name": "python3"
  },
  "language_info": {
   "codemirror_mode": {
    "name": "ipython",
    "version": 3
   },
   "file_extension": ".py",
   "mimetype": "text/x-python",
   "name": "python",
   "nbconvert_exporter": "python",
   "pygments_lexer": "ipython3",
   "version": "3.7.6"
  }
 },
 "nbformat": 4,
 "nbformat_minor": 4
}
